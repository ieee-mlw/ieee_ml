{
 "cells": [
  {
   "cell_type": "code",
   "execution_count": 292,
   "metadata": {},
   "outputs": [],
   "source": [
    "import numpy as np\n",
    "import tensorflow as tf"
   ]
  },
  {
   "cell_type": "code",
   "execution_count": 293,
   "metadata": {},
   "outputs": [],
   "source": [
    "#Launch the graph in a session.\n",
    "sess=tf.Session()"
   ]
  },
  {
   "cell_type": "code",
   "execution_count": 294,
   "metadata": {},
   "outputs": [],
   "source": [
    "#a place in memory where we will store value later on\n",
    "x = tf.placeholder(\"float\", [1, 3])"
   ]
  },
  {
   "cell_type": "code",
   "execution_count": 295,
   "metadata": {},
   "outputs": [],
   "source": [
    "# deep layers\n",
    "num_layers = 2"
   ]
  },
  {
   "cell_type": "code",
   "execution_count": 296,
   "metadata": {},
   "outputs": [],
   "source": [
    "for layer in range(num_layers):\n",
    "  with tf.name_scope('relu'):#Help specify hierarchical names\n",
    "    w=tf.Variable(tf.random_normal([3,3]),name='w')#define a variable\n",
    "    b = tf.Variable(tf.zeros([1, 3]))#bias\n",
    "    y = tf.matmul(x, w)+b\n",
    "    relu_out = tf.nn.relu(y)#activate function\n",
    "    \n",
    "with tf.name_scope('softmax'):  \n",
    "  softmax_w = tf.Variable(tf.random_normal([3, 3]))\n",
    "  softmax_b = tf.Variable(tf.zeros([1, 3]))\n",
    "  logit = tf.matmul(relu_out, softmax_w)+ softmax_b\n",
    "  softmax = tf.nn.softmax(logit)#Make predictions for n targets that sum to 1"
   ]
  },
  {
   "cell_type": "code",
   "execution_count": 297,
   "metadata": {},
   "outputs": [],
   "source": [
    "# Returns an Op that initializes global variables.\n",
    "sess.run(tf.global_variables_initializer())"
   ]
  },
  {
   "cell_type": "code",
   "execution_count": 298,
   "metadata": {},
   "outputs": [],
   "source": [
    "#Visualize the graph\n",
    "writer = tf.summary.FileWriter(\n",
    "'/tmp/tf_logs', sess.graph) "
   ]
  },
  {
   "cell_type": "code",
   "execution_count": 299,
   "metadata": {},
   "outputs": [],
   "source": [
    "#Labels\n",
    "answer = np.array([[0.0, 1.0, 0.0]])"
   ]
  },
  {
   "cell_type": "code",
   "execution_count": 300,
   "metadata": {},
   "outputs": [],
   "source": [
    "#variable to store Labels\n",
    "labels = tf.placeholder(\"float\", [1, 3])"
   ]
  },
  {
   "cell_type": "code",
   "execution_count": 301,
   "metadata": {},
   "outputs": [],
   "source": [
    "#Loss function for softmax\n",
    "l2reg = tf.reduce_sum(tf.square(softmax_w))#L2 regularize\n",
    "cross_entropy = tf.nn.softmax_cross_entropy_with_logits(\n",
    "logits=logit, labels=labels, name='xentropy')\n",
    "loss=l2reg+cross_entropy"
   ]
  },
  {
   "cell_type": "code",
   "execution_count": 302,
   "metadata": {},
   "outputs": [],
   "source": [
    "#GradientDescentOptimizer\n",
    "optimizer = tf.train.GradientDescentOptimizer(0.1)\n",
    "train_op = optimizer.minimize(loss)"
   ]
  },
  {
   "cell_type": "code",
   "execution_count": 303,
   "metadata": {},
   "outputs": [
    {
     "name": "stdout",
     "output_type": "stream",
     "text": [
      "[[0.00423456 0.60362744 0.392138  ]]\n",
      "[[0.00916393 0.7600979  0.23073818]]\n",
      "[[0.0156785  0.80842817 0.17589337]]\n",
      "[[0.02423476 0.82777214 0.14799316]]\n",
      "[[0.03420958 0.8356608  0.13012959]]\n",
      "[[0.04440088 0.83881485 0.11678427]]\n",
      "[[0.05350792 0.840563   0.10592902]]\n",
      "[[0.0606112  0.8425757  0.09681305]]\n",
      "[[0.0653998  0.845462   0.08913816]]\n",
      "[[0.06808011 0.8491925  0.08272739]]\n"
     ]
    }
   ],
   "source": [
    "#Feed\n",
    "for step in range(10):\n",
    "    _, result=sess.run([train_op,softmax],feed_dict={x:np.array([[1.0, 2.0, 3.0]]), labels:answer}) \n",
    "    print(result)"
   ]
  },
  {
   "cell_type": "code",
   "execution_count": 304,
   "metadata": {},
   "outputs": [],
   "source": [
    "#close sesstion\n",
    "sess.close()"
   ]
  }
 ],
 "metadata": {
  "kernelspec": {
   "display_name": "Python 3",
   "language": "python",
   "name": "python3"
  },
  "language_info": {
   "codemirror_mode": {
    "name": "ipython",
    "version": 3
   },
   "file_extension": ".py",
   "mimetype": "text/x-python",
   "name": "python",
   "nbconvert_exporter": "python",
   "pygments_lexer": "ipython3",
   "version": "3.5.4"
  }
 },
 "nbformat": 4,
 "nbformat_minor": 2
}
