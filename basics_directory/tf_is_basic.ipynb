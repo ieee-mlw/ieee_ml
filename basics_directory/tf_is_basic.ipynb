{
 "cells": [
  {
   "cell_type": "code",
   "execution_count": 2,
   "metadata": {},
   "outputs": [],
   "source": [
    "import numpy as np\n",
    "import tensorflow as tf\n",
    "#A TensorFlow Session for use in interactive contexts, such as a shell.\n",
    "sess = tf.InteractiveSession()"
   ]
  },
  {
   "cell_type": "code",
   "execution_count": 3,
   "metadata": {},
   "outputs": [],
   "source": [
    "##a place in memory where we will store value later on\n",
    "x = tf.placeholder(\"float\", [1, 3])"
   ]
  },
  {
   "cell_type": "code",
   "execution_count": 4,
   "metadata": {},
   "outputs": [],
   "source": [
    "# deep layers\n",
    "num_layers = 2 "
   ]
  },
  {
   "cell_type": "code",
   "execution_count": 5,
   "metadata": {},
   "outputs": [],
   "source": [
    "for layer in range(num_layers):\n",
    "   with tf.name_scope('relu'):#Help specify hierarchical names\n",
    "    w=tf.Variable(tf.random_normal([3,3]),name='w') #define a variable\n",
    "    b = tf.Variable(tf.zeros([1, 3])) #bias\n",
    "    y = tf.matmul(x, w)\n",
    "    relu_out = tf.nn.relu(y)#activate function\n",
    "    softmax_w = tf.Variable(tf.random_normal([3, 3]))\n",
    "    softmax_b = tf.Variable(tf.zeros([1, 3]))\n",
    "    logit = tf.matmul(relu_out, softmax_w)+ softmax_b\n",
    "    softmax = tf.nn.softmax(logit)#Make predictions for n targets that sum to 1"
   ]
  },
  {
   "cell_type": "code",
   "execution_count": 6,
   "metadata": {},
   "outputs": [],
   "source": [
    "# Returns an Op that initializes global variables.    \n",
    "sess.run(tf.global_variables_initializer())"
   ]
  },
  {
   "cell_type": "code",
   "execution_count": 7,
   "metadata": {},
   "outputs": [],
   "source": [
    "#Visualize the graph\n",
    "writer = tf.summary.FileWriter(\n",
    "'/tmp/tf_logs', sess.graph)"
   ]
  },
  {
   "cell_type": "code",
   "execution_count": 8,
   "metadata": {},
   "outputs": [],
   "source": [
    "#Labels\n",
    "answer = np.array([[0.0, 1.0, 0.0]])"
   ]
  },
  {
   "cell_type": "code",
   "execution_count": 9,
   "metadata": {},
   "outputs": [],
   "source": [
    "#variable to store Labels\n",
    "labels = tf.placeholder(\"float\", [1, 3])"
   ]
  },
  {
   "cell_type": "code",
   "execution_count": 10,
   "metadata": {},
   "outputs": [],
   "source": [
    "#L2 regularize\n",
    "l2reg = tf.reduce_sum(tf.square(softmax_w))"
   ]
  },
  {
   "cell_type": "code",
   "execution_count": 11,
   "metadata": {},
   "outputs": [],
   "source": [
    "#Loss function for softmax\n",
    "cross_entropy = tf.nn.softmax_cross_entropy_with_logits(\n",
    "logits=logit, labels=labels, name='xentropy')"
   ]
  },
  {
   "cell_type": "code",
   "execution_count": 12,
   "metadata": {},
   "outputs": [],
   "source": [
    "#GradientDescentOptimizer\n",
    "optimizer = tf.train.GradientDescentOptimizer(0.1)\n",
    "train_op = optimizer.minimize(cross_entropy)"
   ]
  },
  {
   "cell_type": "code",
   "execution_count": 13,
   "metadata": {},
   "outputs": [
    {
     "name": "stdout",
     "output_type": "stream",
     "text": [
      "[[0.30939165 0.6212881  0.06932025]]\n",
      "[[0.14914523 0.8069054  0.04394927]]\n",
      "[[0.09127986 0.87867165 0.03004841]]\n",
      "[[0.06356071 0.9141057  0.02233364]]\n",
      "[[0.04783593 0.9345799  0.0175841 ]]\n",
      "[[0.0378883  0.9477017  0.01441007]]\n",
      "[[0.03110603 0.9567377  0.01215623]]\n",
      "[[0.02622395 0.9632949  0.01048109]]\n",
      "[[0.0225625  0.96824616 0.00919136]]\n",
      "[[0.01972705 0.97210276 0.00817021]]\n"
     ]
    }
   ],
   "source": [
    "#Feed\n",
    "for step in range(10):\n",
    "     _,result=sess.run([train_op,softmax],feed_dict={x:np.array([[1.0, 2.0, 3.0]]), labels:answer})\n",
    "     print(result)"
   ]
  },
  {
   "cell_type": "code",
   "execution_count": 14,
   "metadata": {},
   "outputs": [],
   "source": [
    "#close sesstion\n",
    "sess.close()"
   ]
  }
 ],
 "metadata": {
  "kernelspec": {
   "display_name": "Python 3",
   "language": "python",
   "name": "python3"
  },
  "language_info": {
   "codemirror_mode": {
    "name": "ipython",
    "version": 3
   },
   "file_extension": ".py",
   "mimetype": "text/x-python",
   "name": "python",
   "nbconvert_exporter": "python",
   "pygments_lexer": "ipython3",
   "version": "3.5.4"
  }
 },
 "nbformat": 4,
 "nbformat_minor": 2
}
