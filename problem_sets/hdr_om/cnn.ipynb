{
 "cells": [
  {
   "cell_type": "code",
   "execution_count": 1,
   "metadata": {},
   "outputs": [],
   "source": [
    "# function [trainlabels,trainimages,testlabels,testimages] = cnnload()\n",
    "\n",
    "import matplotlib.pyplot as plt\n",
    "import numpy as np\n",
    "import numpy.linalg as lin\n",
    "import matplotlib.patches as mpatches\n",
    "\n",
    "def toint(b):\n",
    "    x= b[0]*16777216 + b[1]*65536 + b[2]*256 + b[3];\n",
    "    return(x)\n",
    "\n",
    "def showimgs(img,lbl,h,w,fig):\n",
    "    plt.figure\n",
    "    for i in range (1,h*w):\n",
    "        plt.subplot(h,w,i)\n",
    "        plt.imshow(img[:,:,i])\n",
    "        plt.title(num2str(lbl(i)))\n",
    "\n",
    "def cnnload():\n",
    "    trlblid = open('train-labels.idx1-ubyte','rb');\n",
    "    trimgid = open('train-images.idx3-ubyte','rb');\n",
    "    tslblid = open('t10k-labels.idx1-ubyte','rb');\n",
    "    tsimgid = open('t10k-images.idx3-ubyte','rb');\n",
    "\n",
    "    # read train labels\n",
    "\n",
    "    np.fromstring(trlblid.read(4),dtype='uint8')\n",
    "    numtrlbls= toint(np.fromstring(trlblid.read(4),dtype='uint8'))\n",
    "    trainlabels = np.fromstring(trlblid.read(numtrlbls),dtype='uint8');\n",
    "\n",
    "    # % read train data\n",
    "\n",
    "    np.fromstring(trimgid.read(4),dtype='uint8')\n",
    "    numtrimg=toint(np.fromstring(trimgid.read(4),dtype='uint8'))\n",
    "    trimgh=toint(np.fromstring(trimgid.read(4),dtype='uint8'))\n",
    "    trimgw=toint(np.fromstring(trimgid.read(4),dtype='uint8'))\n",
    "    chunk_size=trimgh*trimgw*numtrimg\n",
    "    chunk=np.fromstring(trimgid.read(trimgh*trimgw*numtrimg),dtype='uint8')\n",
    "    trainimages=np.transpose(np.reshape(chunk,[numtrimg,trimgh,trimgw]),axes=[0,1,2])  # python index starts with 0\n",
    "\n",
    "    # % read test labels\n",
    "\n",
    "    np.fromstring(tslblid.read(4),dtype='uint8')\n",
    "    numtslbls=toint(np.fromstring(tslblid.read(4),dtype='uint8'))\n",
    "    testlabels=np.fromstring(tslblid.read(),dtype='uint8')\n",
    "\n",
    "\n",
    "    # % read test data\n",
    "    np.fromstring(tsimgid.read(4),dtype='uint8')\n",
    "    numtsimg=toint(np.fromstring(tsimgid.read(4),dtype='uint8'))\n",
    "    tsimgh=toint(np.fromstring(tsimgid.read(4),dtype='uint8'))\n",
    "    tsimgw= toint(np.fromstring(tsimgid.read(4),dtype='uint8'))\n",
    "    chunk_size=tsimgh*tsimgw*numtsimg\n",
    "    chunk=np.fromstring(tsimgid.read(tsimgh*tsimgw*numtsimg),dtype='uint8')\n",
    "    testimages=np.transpose(np.reshape(chunk,[numtsimg,tsimgh,tsimgw]),axes=[0,1,2])\n",
    "    return trainlabels,trainimages,testlabels,testimages\n"
   ]
  },
  {
   "cell_type": "code",
   "execution_count": null,
   "metadata": {},
   "outputs": [],
   "source": []
  }
 ],
 "metadata": {
  "kernelspec": {
   "display_name": "Python 3",
   "language": "python",
   "name": "python3"
  },
  "language_info": {
   "codemirror_mode": {
    "name": "ipython",
    "version": 3
   },
   "file_extension": ".py",
   "mimetype": "text/x-python",
   "name": "python",
   "nbconvert_exporter": "python",
   "pygments_lexer": "ipython3",
   "version": "3.5.2"
  }
 },
 "nbformat": 4,
 "nbformat_minor": 2
}
