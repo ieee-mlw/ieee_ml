{
 "cells": [
  {
   "cell_type": "code",
   "execution_count": 1,
   "metadata": {},
   "outputs": [
    {
     "name": "stdout",
     "output_type": "stream",
     "text": [
      "['Error: 5006.9456888111135 at iteration 0']\n",
      "['Error: 3619.3339307476185 at iteration 1']\n",
      "['Error: 3608.742082653122 at iteration 2']\n",
      "['Error: 3601.0355335022755 at iteration 3']\n",
      "['Error: 3595.6889998076504 at iteration 4']\n",
      "['Error: 3590.7872153117723 at iteration 5']\n",
      "['Error: 3584.779603004219 at iteration 6']\n",
      "['Error: 3577.625289206182 at iteration 7']\n",
      "['Error: 3570.3629892093954 at iteration 8']\n",
      "['Error: 3563.6515784705566 at iteration 9']\n",
      "training parameters are created\n",
      "['Miss: 9464 out of 10000']\n"
     ]
    }
   ],
   "source": [
    "# %%Kiran Gunnam\n",
    "\n",
    "import matplotlib.pyplot as plt\n",
    "import numpy as np\n",
    "import numpy.linalg as lin\n",
    "import matplotlib.patches as mpatches\n",
    "import scipy as sypy\n",
    "import time\n",
    "import os.path\n",
    "\n",
    "from scipy import signal\n",
    "from scipy import io\n",
    "from numpy import ndarray\n",
    "\n",
    "from ipynb.fs.full.cnn import cnnload\n",
    "from ipynb.fs.full.avgpool import avgpool\n",
    "#from ipynb.fs.full.avgpool import maxpool\n",
    "from ipynb.fs.full.cnn_training import cnn_training\n",
    "from ipynb.fs.full.cnn_inference import cnn_inference\n",
    "\n",
    "[trainlabels,trainimages,testlabels,testimages] = cnnload();\n",
    "\n",
    "use_previous_training=0\n",
    "\n",
    "maxtrain=2000; #maximum training images\n",
    "iter= 10; # maximum iterations\n",
    "eta=0.01; # learning rate\n",
    "#  \n",
    "#  maxtrain=10000; #maximum training images\n",
    "#  iter= 10; #maximum iterations\n",
    "#  eta=0.01; # learning rate\n",
    "\n",
    "#  maxtrain=60000; #maximum training images\n",
    "#  iter= 30; #maximum iterations\n",
    "#  eta=0.01; #learning rate\n",
    "\n",
    "# select the pooling\n",
    "# pool='maxpool';\n",
    "pool= 'avgpool';\n",
    "\n",
    "\n",
    "trained_parameter_file ='trained_parameters'+'_maxtrain'+str(maxtrain)+'_iter'+str(iter)+'_eta'+str(eta)+ pool+'.mat';    \n",
    "\n",
    "if(use_previous_training==0):  \n",
    "    tstart= time.time()\n",
    "    cnn_training(trainlabels,trainimages,maxtrain,iter,eta,pool,trained_parameter_file);\n",
    "    tfinish= time.time() -tstart\n",
    "    if(os.path.isfile(trained_parameter_file)):\n",
    "        print('training parameters are created');\n",
    "else:\n",
    "    if(os.path.isfile(trained_parameter_file)):\n",
    "        print('using previously trained parameters');\n",
    "\n",
    "\n",
    "tstart2= time.time()\n",
    "[missimages, misslabels] = cnn_inference(testlabels,testimages,pool,trained_parameter_file);\n",
    "tfinish2= time.time()-tstart\n",
    "\n"
   ]
  },
  {
   "cell_type": "code",
   "execution_count": null,
   "metadata": {},
   "outputs": [],
   "source": []
  }
 ],
 "metadata": {
  "kernelspec": {
   "display_name": "Python 3",
   "language": "python",
   "name": "python3"
  },
  "language_info": {
   "codemirror_mode": {
    "name": "ipython",
    "version": 3
   },
   "file_extension": ".py",
   "mimetype": "text/x-python",
   "name": "python",
   "nbconvert_exporter": "python",
   "pygments_lexer": "ipython3",
   "version": "3.5.2"
  }
 },
 "nbformat": 4,
 "nbformat_minor": 2
}
