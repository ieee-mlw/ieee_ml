{
 "cells": [
  {
   "cell_type": "code",
   "execution_count": 1,
   "metadata": {},
   "outputs": [],
   "source": [
    "import matplotlib.pyplot as plt\n",
    "import numpy as np\n",
    "import numpy.linalg as lin\n",
    "import matplotlib.patches as mpatches\n",
    "\n",
    "def avgpool(img):\n",
    "    m=np.size(img,0)\n",
    "    n=np.size(img,1)\n",
    "    pr= np.zeros((m//2,n//2))\n",
    "    for r in range(0,m,2):\n",
    "        for c in range(0,n,2):\n",
    "            pr[(r+1)//2,(c+1)//2] = (img[r,c]+img[r+1,c]+img[r,c+1]+img[r+1,c+1])/4;\n",
    "    return pr\n",
    "    \n",
    "    \n",
    "def maxpool(img):\n",
    "    m=np.size(img,0)\n",
    "    n=np.size(img,1)\n",
    "    pr= np.zeros((m//2,n//2))\n",
    "    for r in range(0,m,2):\n",
    "        for c in range(0,n,2):\n",
    "            pr[(r+1)//2,(c+1)//2] = np.max(img[r,c]+img[r+1,c]+img[r,c+1]+img[r+1,c+1]);\n",
    "    return pr"
   ]
  },
  {
   "cell_type": "code",
   "execution_count": null,
   "metadata": {},
   "outputs": [],
   "source": []
  }
 ],
 "metadata": {
  "kernelspec": {
   "display_name": "Python 3",
   "language": "python",
   "name": "python3"
  },
  "language_info": {
   "codemirror_mode": {
    "name": "ipython",
    "version": 3
   },
   "file_extension": ".py",
   "mimetype": "text/x-python",
   "name": "python",
   "nbconvert_exporter": "python",
   "pygments_lexer": "ipython3",
   "version": "3.5.2"
  }
 },
 "nbformat": 4,
 "nbformat_minor": 2
}
